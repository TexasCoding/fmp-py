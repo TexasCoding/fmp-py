{
 "cells": [
  {
   "cell_type": "markdown",
   "metadata": {},
   "source": [
    "### Getting Started With Chart Data"
   ]
  },
  {
   "cell_type": "code",
   "execution_count": 9,
   "metadata": {},
   "outputs": [],
   "source": [
    "from pprint import pprint\n",
    "from fmp_py.fmp_charts import FmpCharts\n",
    "import pendulum\n",
    "\n",
    "yesterday = pendulum.yesterday().to_date_string()\n",
    "four_year_age = pendulum.now().subtract(years=4).to_date_string()"
   ]
  },
  {
   "cell_type": "markdown",
   "metadata": {},
   "source": [
    "## Basic Historical Data"
   ]
  },
  {
   "cell_type": "code",
   "execution_count": 10,
   "metadata": {},
   "outputs": [
    {
     "name": "stdout",
     "output_type": "stream",
     "text": [
      "              open     low    high   close     volume\n",
      "date                                                 \n",
      "2020-07-27   93.71   93.48   94.91   94.81  121214192\n",
      "2020-07-28   94.37   93.25   94.55   93.25  103625500\n",
      "2020-07-29   93.75   93.71   95.23   95.04   90329256\n",
      "2020-07-30   94.19   93.77   96.30   96.19  158130020\n",
      "2020-07-31  102.88  100.83  106.42  106.26  374295468\n",
      "...            ...     ...     ...     ...        ...\n",
      "2024-07-19  224.82  223.28  226.80  224.31   49151453\n",
      "2024-07-22  227.01  223.09  227.78  223.96   48201835\n",
      "2024-07-23  224.37  222.68  226.94  225.01   39960260\n",
      "2024-07-24  224.00  217.13  224.80  218.54   61777576\n",
      "2024-07-25  218.93  214.62  220.85  217.49   51391199\n",
      "\n",
      "[1006 rows x 5 columns]\n"
     ]
    }
   ],
   "source": [
    "fmp = FmpCharts(symbol=\"AAPL\", from_date=four_year_age, to_date=yesterday)\n",
    "\n",
    "pprint(fmp.return_chart())"
   ]
  },
  {
   "cell_type": "markdown",
   "metadata": {},
   "source": [
    "## Add SMA Indicator to Data"
   ]
  },
  {
   "cell_type": "code",
   "execution_count": 11,
   "metadata": {},
   "outputs": [
    {
     "name": "stdout",
     "output_type": "stream",
     "text": [
      "              open     low    high   close     volume   sma14\n",
      "date                                                         \n",
      "2020-07-27   93.71   93.48   94.91   94.81  121214192   94.81\n",
      "2020-07-28   94.37   93.25   94.55   93.25  103625500   94.03\n",
      "2020-07-29   93.75   93.71   95.23   95.04   90329256   94.37\n",
      "2020-07-30   94.19   93.77   96.30   96.19  158130020   94.82\n",
      "2020-07-31  102.88  100.83  106.42  106.26  374295468   97.11\n",
      "...            ...     ...     ...     ...        ...     ...\n",
      "2024-07-19  224.82  223.28  226.80  224.31   49151453  227.08\n",
      "2024-07-22  227.01  223.09  227.78  223.96   48201835  227.59\n",
      "2024-07-23  224.37  222.68  226.94  225.01   39960260  227.93\n",
      "2024-07-24  224.00  217.13  224.80  218.54   61777576  227.72\n",
      "2024-07-25  218.93  214.62  220.85  217.49   51391199  227.08\n",
      "\n",
      "[1006 rows x 6 columns]\n"
     ]
    }
   ],
   "source": [
    "fmp.sma(14)\n",
    "\n",
    "pprint(fmp.return_chart())"
   ]
  },
  {
   "cell_type": "markdown",
   "metadata": {},
   "source": [
    "## Add RSI Indicator to Data"
   ]
  },
  {
   "cell_type": "code",
   "execution_count": 12,
   "metadata": {},
   "outputs": [
    {
     "name": "stdout",
     "output_type": "stream",
     "text": [
      "              open     low    high   close     volume   sma14   rsi14\n",
      "date                                                                 \n",
      "2020-07-27   93.71   93.48   94.91   94.81  121214192   94.81  100.00\n",
      "2020-07-28   94.37   93.25   94.55   93.25  103625500   94.03    0.00\n",
      "2020-07-29   93.75   93.71   95.23   95.04   90329256   94.37   55.27\n",
      "2020-07-30   94.19   93.77   96.30   96.19  158130020   94.82   67.64\n",
      "2020-07-31  102.88  100.83  106.42  106.26  374295468   97.11   91.03\n",
      "...            ...     ...     ...     ...        ...     ...     ...\n",
      "2024-07-19  224.82  223.28  226.80  224.31   49151453  227.08   57.05\n",
      "2024-07-22  227.01  223.09  227.78  223.96   48201835  227.59   56.54\n",
      "2024-07-23  224.37  222.68  226.94  225.01   39960260  227.93   57.76\n",
      "2024-07-24  224.00  217.13  224.80  218.54   61777576  227.72   48.69\n",
      "2024-07-25  218.93  214.62  220.85  217.49   51391199  227.08   47.39\n",
      "\n",
      "[1006 rows x 7 columns]\n"
     ]
    }
   ],
   "source": [
    "fmp.rsi(14)\n",
    "\n",
    "pprint(fmp.return_chart())"
   ]
  }
 ],
 "metadata": {
  "kernelspec": {
   "display_name": "fmp-py-m43qA0g1-py3.12",
   "language": "python",
   "name": "python3"
  },
  "language_info": {
   "codemirror_mode": {
    "name": "ipython",
    "version": 3
   },
   "file_extension": ".py",
   "mimetype": "text/x-python",
   "name": "python",
   "nbconvert_exporter": "python",
   "pygments_lexer": "ipython3",
   "version": "3.12.4"
  }
 },
 "nbformat": 4,
 "nbformat_minor": 2
}
